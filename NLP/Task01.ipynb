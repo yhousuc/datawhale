{
 "cells": [
  {
   "cell_type": "markdown",
   "metadata": {},
   "source": [
    "# 新闻文本分类"
   ]
  },
  {
   "cell_type": "code",
   "execution_count": 1,
   "metadata": {
    "scrolled": true
   },
   "outputs": [
    {
     "name": "stdout",
     "output_type": "stream",
     "text": [
      "C:\\Users\\13398\\code\\datawhale\\NLP\n"
     ]
    }
   ],
   "source": [
    "import os\n",
    "print(os.getcwd())"
   ]
  },
  {
   "cell_type": "markdown",
   "metadata": {},
   "source": [
    "## 1.导入需要的包"
   ]
  },
  {
   "cell_type": "code",
   "execution_count": 9,
   "metadata": {},
   "outputs": [],
   "source": [
    "import numpy as np\n",
    "import pandas as pd\n",
    "from sklearn.model_selection import train_test_split\n",
    "from sklearn.feature_extraction.text import TfidfVectorizer\n",
    "from sklearn.model_selection import GridSearchCV\n",
    "from sklearn.metrics import f1_score\n",
    "from sklearn.metrics import accuracy_score\n",
    "from sklearn.linear_model import LogisticRegression"
   ]
  },
  {
   "cell_type": "code",
   "execution_count": 10,
   "metadata": {},
   "outputs": [],
   "source": [
    "train = pd.read_csv(\"./input/train_set.csv\",sep = '\\t')"
   ]
  },
  {
   "cell_type": "code",
   "execution_count": 11,
   "metadata": {},
   "outputs": [],
   "source": [
    "test = pd.read_csv(\"./input/test_a.csv\", sep = '\\t')"
   ]
  },
  {
   "cell_type": "code",
   "execution_count": 12,
   "metadata": {},
   "outputs": [
    {
     "data": {
      "text/plain": [
       "0        5399 3117 1070 4321 4568 2621 5466 3772 4516 2...\n",
       "1        2491 4109 1757 7539 648 3695 3038 4490 23 7019...\n",
       "2        2673 5076 6835 2835 5948 5677 3247 4124 2465 5...\n",
       "3        4562 4893 2210 4761 3659 1324 2595 5949 4583 2...\n",
       "4        4269 7134 2614 1724 4464 1324 3370 3370 2106 2...\n",
       "                               ...                        \n",
       "49995    3725 4498 2282 1647 6293 4245 4498 3615 1141 2...\n",
       "49996    4811 465 3800 1394 3038 2376 2327 5165 3070 57...\n",
       "49997    5338 1952 3117 4109 299 6656 6654 3792 6831 21...\n",
       "49998    893 3469 5775 584 2490 4223 6569 6663 2124 168...\n",
       "49999    2400 4409 4412 2210 5122 4464 7186 2465 1327 9...\n",
       "Name: text, Length: 50000, dtype: object"
      ]
     },
     "execution_count": 12,
     "metadata": {},
     "output_type": "execute_result"
    }
   ],
   "source": [
    "train_text = train['text']\n",
    "test_text = test['text']\n",
    "\n",
    "test_text"
   ]
  },
  {
   "cell_type": "markdown",
   "metadata": {},
   "source": [
    "#### 将训练集和测试集合并处理，避免不统一"
   ]
  },
  {
   "cell_type": "code",
   "execution_count": 13,
   "metadata": {},
   "outputs": [],
   "source": [
    "all_text = pd.concat([train_text, test_text])"
   ]
  },
  {
   "cell_type": "code",
   "execution_count": 14,
   "metadata": {},
   "outputs": [
    {
     "data": {
      "text/plain": [
       "0        2967 6758 339 2021 1854 3731 4109 3792 4149 15...\n",
       "1        4464 486 6352 5619 2465 4802 1452 3137 5778 54...\n",
       "2        7346 4068 5074 3747 5681 6093 1777 2226 7354 6...\n",
       "3        7159 948 4866 2109 5520 2490 211 3956 5520 549...\n",
       "4        3646 3055 3055 2490 4659 6065 3370 5814 2465 5...\n",
       "                               ...                        \n",
       "49995    3725 4498 2282 1647 6293 4245 4498 3615 1141 2...\n",
       "49996    4811 465 3800 1394 3038 2376 2327 5165 3070 57...\n",
       "49997    5338 1952 3117 4109 299 6656 6654 3792 6831 21...\n",
       "49998    893 3469 5775 584 2490 4223 6569 6663 2124 168...\n",
       "49999    2400 4409 4412 2210 5122 4464 7186 2465 1327 9...\n",
       "Name: text, Length: 250000, dtype: object"
      ]
     },
     "execution_count": 14,
     "metadata": {},
     "output_type": "execute_result"
    }
   ],
   "source": [
    "all_text"
   ]
  },
  {
   "cell_type": "code",
   "execution_count": 16,
   "metadata": {},
   "outputs": [
    {
     "data": {
      "text/plain": [
       "<200000x6967 sparse matrix of type '<class 'numpy.float64'>'\n",
       "\twith 56068855 stored elements in Compressed Sparse Row format>"
      ]
     },
     "execution_count": 16,
     "metadata": {},
     "output_type": "execute_result"
    }
   ],
   "source": [
    "tf_idf = TfidfVectorizer()\n",
    "tf_idf.fit(all_text)\n",
    "train_w2v = tf_idf.transform(train_text)\n",
    "test_w2v = tf_idf.transform(test_text)\n",
    "train_w2v"
   ]
  },
  {
   "cell_type": "markdown",
   "metadata": {},
   "source": [
    "## 2.logistic regression"
   ]
  },
  {
   "cell_type": "code",
   "execution_count": 17,
   "metadata": {},
   "outputs": [],
   "source": [
    "X_train = train_w2v\n",
    "y_train = train['label']\n",
    "\n",
    "# 切分验证集\n",
    "x_train_set, x_valid_set, y_train_set, y_valid_set = train_test_split(X_train, y_train, test_size = 0.3)\n",
    "x_test_set = test_w2v"
   ]
  },
  {
   "cell_type": "code",
   "execution_count": 19,
   "metadata": {},
   "outputs": [
    {
     "name": "stdout",
     "output_type": "stream",
     "text": [
      "0.9403928571428571 0.9110279413956893\n"
     ]
    }
   ],
   "source": [
    "clf = LogisticRegression(C=4, n_jobs=16)\n",
    "clf.fit(x_train_set, y_train_set)\n",
    "\n",
    "y_pred = clf.predict(x_valid_set)\n",
    "train_scores = clf.score(x_train_set, y_train_set)\n",
    "print(train_scores, f1_score(y_pred, y_valid_set, average = 'macro'))"
   ]
  },
  {
   "cell_type": "code",
   "execution_count": 24,
   "metadata": {},
   "outputs": [],
   "source": [
    "y_pred_final = clf.predict(x_test_set)\n",
    "\n",
    "submission = pd.read_csv('./input/test_a_sample_submit.csv')\n",
    "submission['label'] = y_pred_final\n",
    "submission.to_csv('./lr_submission.csv', index=False)"
   ]
  }
 ],
 "metadata": {
  "kernelspec": {
   "display_name": "Python 3",
   "language": "python",
   "name": "python3"
  },
  "language_info": {
   "codemirror_mode": {
    "name": "ipython",
    "version": 3
   },
   "file_extension": ".py",
   "mimetype": "text/x-python",
   "name": "python",
   "nbconvert_exporter": "python",
   "pygments_lexer": "ipython3",
   "version": "3.6.10"
  }
 },
 "nbformat": 4,
 "nbformat_minor": 4
}
